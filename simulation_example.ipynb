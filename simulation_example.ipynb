{
  "cells": [
    {
      "cell_type": "code",
      "execution_count": 1,
      "id": "44a7f48b-fad8-45bb-9b0a-70d244c7aae3",
      "metadata": {
        "colab": {
          "base_uri": "https://localhost:8080/"
        },
        "id": "44a7f48b-fad8-45bb-9b0a-70d244c7aae3",
        "outputId": "8f3e56ef-f198-47e9-89fa-5da5515fd47b"
      },
      "outputs": [
        {
          "output_type": "stream",
          "name": "stdout",
          "text": [
            "Looking in indexes: https://pypi.org/simple, https://us-python.pkg.dev/colab-wheels/public/simple/\n",
            "Requirement already satisfied: pyro-ppl in /usr/local/lib/python3.8/dist-packages (1.8.4)\n",
            "Requirement already satisfied: torch>=1.11.0 in /usr/local/lib/python3.8/dist-packages (from pyro-ppl) (1.13.1+cu116)\n",
            "Requirement already satisfied: tqdm>=4.36 in /usr/local/lib/python3.8/dist-packages (from pyro-ppl) (4.64.1)\n",
            "Requirement already satisfied: pyro-api>=0.1.1 in /usr/local/lib/python3.8/dist-packages (from pyro-ppl) (0.1.2)\n",
            "Requirement already satisfied: numpy>=1.7 in /usr/local/lib/python3.8/dist-packages (from pyro-ppl) (1.22.4)\n",
            "Requirement already satisfied: opt-einsum>=2.3.2 in /usr/local/lib/python3.8/dist-packages (from pyro-ppl) (3.3.0)\n",
            "Requirement already satisfied: typing-extensions in /usr/local/lib/python3.8/dist-packages (from torch>=1.11.0->pyro-ppl) (4.5.0)\n"
          ]
        }
      ],
      "source": [
        "!pip install pyro-ppl"
      ]
    },
    {
      "cell_type": "code",
      "source": [
        "!nvidia-smi"
      ],
      "metadata": {
        "colab": {
          "base_uri": "https://localhost:8080/"
        },
        "id": "RfOstXgiw3vv",
        "outputId": "45a5cb95-37f9-4b70-e464-88bbeff22c74"
      },
      "id": "RfOstXgiw3vv",
      "execution_count": 2,
      "outputs": [
        {
          "output_type": "stream",
          "name": "stdout",
          "text": [
            "Wed Mar  1 02:51:21 2023       \n",
            "+-----------------------------------------------------------------------------+\n",
            "| NVIDIA-SMI 525.85.12    Driver Version: 525.85.12    CUDA Version: 12.0     |\n",
            "|-------------------------------+----------------------+----------------------+\n",
            "| GPU  Name        Persistence-M| Bus-Id        Disp.A | Volatile Uncorr. ECC |\n",
            "| Fan  Temp  Perf  Pwr:Usage/Cap|         Memory-Usage | GPU-Util  Compute M. |\n",
            "|                               |                      |               MIG M. |\n",
            "|===============================+======================+======================|\n",
            "|   0  Tesla T4            Off  | 00000000:00:04.0 Off |                    0 |\n",
            "| N/A   77C    P0    21W /  70W |      0MiB / 15360MiB |      0%      Default |\n",
            "|                               |                      |                  N/A |\n",
            "+-------------------------------+----------------------+----------------------+\n",
            "                                                                               \n",
            "+-----------------------------------------------------------------------------+\n",
            "| Processes:                                                                  |\n",
            "|  GPU   GI   CI        PID   Type   Process name                  GPU Memory |\n",
            "|        ID   ID                                                   Usage      |\n",
            "|=============================================================================|\n",
            "|  No running processes found                                                 |\n",
            "+-----------------------------------------------------------------------------+\n"
          ]
        }
      ]
    },
    {
      "cell_type": "code",
      "execution_count": 3,
      "id": "ca72b2c4-4a6a-4510-b1a4-8deed9cf7c43",
      "metadata": {
        "id": "ca72b2c4-4a6a-4510-b1a4-8deed9cf7c43"
      },
      "outputs": [],
      "source": [
        "import numpy as np\n",
        "import warnings\n",
        "import pyro\n",
        "import pyro.contrib.gp as gp\n",
        "import pyro.distributions as dist\n",
        "from torch.distributions import constraints\n",
        "from pyro.optim import ClippedAdam\n",
        "from pyro.infer import SVI, Trace_ELBO\n",
        "from pyro.optim import Adam\n",
        "from sklearn.preprocessing import StandardScaler\n",
        "from sklearn.decomposition import PCA\n",
        "\n",
        "import time\n",
        "import matplotlib.pyplot as plt\n",
        "\n",
        "warnings.filterwarnings(\"ignore\")"
      ]
    },
    {
      "cell_type": "code",
      "execution_count": 4,
      "id": "62bea02f-cf53-41ed-8b62-9920d9ac58a9",
      "metadata": {
        "id": "62bea02f-cf53-41ed-8b62-9920d9ac58a9"
      },
      "outputs": [],
      "source": [
        "import torch\n",
        "from torch.distributions import constraints\n",
        "\n",
        "from pyro.contrib.gp.kernels.kernel import Kernel\n",
        "from pyro.nn.module import PyroParam\n",
        "\n",
        "\n",
        "def _torch_sqrt(x, eps=1e-12):\n",
        "    \"\"\"\n",
        "    A convenient function to avoid the NaN gradient issue of :func:`torch.sqrt`\n",
        "    at 0.\n",
        "    \"\"\"\n",
        "    # Ref: https://github.com/pytorch/pytorch/issues/2421\n",
        "    return (x + eps).sqrt()\n",
        "\n",
        "\n",
        "class Isotropy(Kernel):\n",
        "    \"\"\"\n",
        "    Base class for a family of isotropic covariance kernels which are functions of the\n",
        "    distance :math:`|x-z|*l`, where :math:`l` is the length-scale parameter.\n",
        "\n",
        "    By default, the parameter ``lengthscale`` has size 1. To use the isotropic version\n",
        "    (different lengthscale for each dimension), make sure that ``lengthscale`` has size\n",
        "    equal to ``input_dim``.\n",
        "\n",
        "    :param torch.Tensor lengthscale: Length-scale parameter of this kernel.\n",
        "    \"\"\"\n",
        "\n",
        "    def __init__(self, input_dim, variance=None, lengthscale=None, active_dims=None):\n",
        "        super().__init__(input_dim, active_dims)\n",
        "\n",
        "        variance = torch.tensor(1.0) if variance is None else variance\n",
        "        self.variance = PyroParam(variance, constraints.positive)\n",
        "\n",
        "        lengthscale = torch.tensor(1.0) if lengthscale is None else lengthscale\n",
        "        self.lengthscale = PyroParam(lengthscale, constraints.positive)\n",
        "\n",
        "    def _square_scaled_dist(self, X, Z=None):\n",
        "        r\"\"\"\n",
        "        Returns :math:`\\|\\frac{X-Z}{l}\\|^2`.\n",
        "        \"\"\"\n",
        "        if Z is None:\n",
        "            Z = X\n",
        "        X = self._slice_input(X)\n",
        "        Z = self._slice_input(Z)\n",
        "        if X.size(1) != Z.size(1):\n",
        "            raise ValueError(\"Inputs must have the same number of features.\")\n",
        "\n",
        "        scaled_X = X * self.lengthscale\n",
        "        scaled_Z = Z * self.lengthscale\n",
        "        X2 = (scaled_X ** 2).sum(1, keepdim=True)\n",
        "        Z2 = (scaled_Z ** 2).sum(1, keepdim=True)\n",
        "        XZ = scaled_X.matmul(scaled_Z.t())\n",
        "        r2 = X2 - 2 * XZ + Z2.t()\n",
        "        return r2.clamp(min=0)\n",
        "\n",
        "    def _scaled_dist(self, X, Z=None):\n",
        "        r\"\"\"\n",
        "        Returns :math:`l * \\|X-Z\\|`.\n",
        "        \"\"\"\n",
        "        return _torch_sqrt(self._square_scaled_dist(X, Z))\n",
        "\n",
        "    def _diag(self, X):\n",
        "        \"\"\"\n",
        "        Calculates the diagonal part of covariance matrix on active features.\n",
        "        \"\"\"\n",
        "        return self.variance.expand(X.size(0))\n",
        "\n",
        "\n",
        "class INV_RBF(Isotropy):\n",
        "    r\"\"\"\n",
        "    Implementation of Radial Basis Function kernel:\n",
        "\n",
        "        :math:`k(x,z) = \\sigma^2\\exp\\left(-0.5 \\times \\frac{|x-z|^2}{l^2}\\right).`\n",
        "\n",
        "    .. note:: This kernel also has name `Squared Exponential` in literature.\n",
        "    \"\"\"\n",
        "\n",
        "    def __init__(self, input_dim, variance=None, lengthscale=None, active_dims=None):\n",
        "        super().__init__(input_dim, variance, lengthscale, active_dims)\n",
        "\n",
        "    def forward(self, X, Z=None, diag=False):\n",
        "        if diag:\n",
        "            return self._diag(X)\n",
        "\n",
        "        r2 = self._square_scaled_dist(X, Z)\n",
        "        return self.variance * torch.exp(-0.5 * r2)"
      ]
    },
    {
      "cell_type": "code",
      "source": [
        "device = \"cuda:0\" if torch.cuda.is_available() else \"cpu\"\n",
        "device"
      ],
      "metadata": {
        "colab": {
          "base_uri": "https://localhost:8080/",
          "height": 36
        },
        "id": "hPm53ufPxfR6",
        "outputId": "f65d949e-e592-41a1-e522-3c65101deda4"
      },
      "id": "hPm53ufPxfR6",
      "execution_count": 5,
      "outputs": [
        {
          "output_type": "execute_result",
          "data": {
            "text/plain": [
              "'cuda:0'"
            ],
            "application/vnd.google.colaboratory.intrinsic+json": {
              "type": "string"
            }
          },
          "metadata": {},
          "execution_count": 5
        }
      ]
    },
    {
      "cell_type": "code",
      "source": [
        "# p(y) = X1-X2-1/2*X3+1/4*X4+1/8*X5+1/16*X6"
      ],
      "metadata": {
        "id": "nM5OD_DZEb0H"
      },
      "id": "nM5OD_DZEb0H",
      "execution_count": 6,
      "outputs": []
    },
    {
      "cell_type": "code",
      "execution_count": 7,
      "id": "ce3b158a-2bd6-4d9b-8ae0-5b6d1a66e8a8",
      "metadata": {
        "id": "ce3b158a-2bd6-4d9b-8ae0-5b6d1a66e8a8"
      },
      "outputs": [],
      "source": [
        "#PCA\n",
        "start_time = time.time()\n",
        "np.random.seed(0)\n",
        "L_0 = []\n",
        "N = 500\n",
        "k= 6\n",
        "X = np.random.randn(N,k)\n",
        "f_samples = X @ np.array([1,-1,-1/2,1/4,1/8,1/16])\n",
        "p_samples = 1/(1+np.exp(-f_samples)) #logit link samples\n",
        "y_samples = np.random.binomial(1, p_samples) #Sample y from underlying latent function\n",
        "y_samples = y_samples.squeeze()\n",
        "X = X.reshape(-1,k)\n",
        "for _ in range(50):\n",
        "    X = np.insert(X,0,np.random.randn(N),axis=1)\n",
        "pca = PCA()\n",
        "inert = 20\n",
        "pca_x = pca.fit_transform(X)[:,-inert:]\n",
        "scaler = StandardScaler()\n",
        "pca_x = scaler.fit_transform(pca_x)\n",
        "for random_seed in range(inert):\n",
        "#         np.random.seed(random_seed)\n",
        "    pyro.set_rng_seed(random_seed)\n",
        "    X_ = np.insert(X,0,pca_x[:,random_seed],axis=1)\n",
        "    p = X_.shape[1]\n",
        "    X_ = torch.tensor(X_).to(device)\n",
        "    y_samples = torch.tensor(y_samples,dtype= torch.float32).to(device)\n",
        "    kernel = INV_RBF(input_dim = p, variance = torch.tensor(1.).to(device),lengthscale = torch.ones(p).to(device))\n",
        "    likelihood = gp.likelihoods.Binary()\n",
        "    gpc = gp.models.VariationalGP(X_,y_samples,kernel=kernel,jitter = torch.tensor(1e-04).to(device), \n",
        "                                likelihood=likelihood,\n",
        "                                whiten =True)\n",
        "    gpc.kernel.lengthscale =  pyro.nn.PyroSample(dist.Exponential(torch.tensor([2.0]).to(device)).expand([p]).to_event(1))\n",
        "    gpc.kernel.variance = pyro.nn.PyroSample(dist.LogNormal(torch.tensor(0.0).to(device), torch.tensor(2.0).to(device)))\n",
        "    num_steps = 1000\n",
        "    initial_lr = 0.005\n",
        "    gamma = 0.5  # final learning rate will be gamma * initial_lr\n",
        "    lrd = gamma ** (1 / num_steps)\n",
        "    optim = pyro.optim.ClippedAdam({'lr': initial_lr, 'lrd': lrd})\n",
        "\n",
        "    svi = SVI(gpc.model,gpc.guide,optim,loss=Trace_ELBO())\n",
        "    losses =np.zeros(num_steps)\n",
        "\n",
        "    pyro.clear_param_store()\n",
        "    for i in range(num_steps):\n",
        "        losses[i]=svi.step()\n",
        "\n",
        "    L_0.append(pyro.param('kernel.lengthscale_map').data.cpu().numpy())\n"
      ]
    },
    {
      "cell_type": "code",
      "execution_count": 8,
      "id": "30bddd3c-3183-4388-b32a-0fb349db6cee",
      "metadata": {
        "id": "30bddd3c-3183-4388-b32a-0fb349db6cee"
      },
      "outputs": [],
      "source": [
        "L_0 = np.array(L_0)"
      ]
    },
    {
      "cell_type": "code",
      "execution_count": 9,
      "id": "a7fbf2f0-4b60-4665-b4ef-b9d19562ab89",
      "metadata": {
        "id": "a7fbf2f0-4b60-4665-b4ef-b9d19562ab89"
      },
      "outputs": [],
      "source": [
        "L_order = np.concatenate(  (L_0[:,-6:],L_0[:,1:5]), axis = 1)"
      ]
    },
    {
      "cell_type": "code",
      "execution_count": 10,
      "id": "376f0771-a413-4e1e-b8d7-981e25d95189",
      "metadata": {
        "colab": {
          "base_uri": "https://localhost:8080/",
          "height": 306
        },
        "id": "376f0771-a413-4e1e-b8d7-981e25d95189",
        "outputId": "7ee41fea-615a-488c-9971-b57e16046e48"
      },
      "outputs": [
        {
          "output_type": "display_data",
          "data": {
            "text/plain": [
              "<Figure size 640x320 with 1 Axes>"
            ],
            "image/png": "[encoded data removed]"
          },
          "metadata": {
            "needs_background": "light"
          }
        }
      ],
      "source": [
        "plt.figure(figsize = (8,4),dpi = 80)\n",
        "plt.boxplot(L_order)\n",
        "plt.axhline(np.quantile(L_0[:,0],0.6),c='r',ls='-',label = 'q = 60')\n",
        "plt.axhline(np.quantile(L_0[:,0],0.8),c='g',ls='--',label = 'q = 80')\n",
        "plt.axhline(np.quantile(L_0[:,0],0.9),c='b',ls='-.',label = 'q = 90')\n",
        "plt.xlabel('Feature')\n",
        "plt.ylabel('Inverse length-sclae')\n",
        "plt.legend()\n",
        "plt.show()"
      ]
    },
    {
      "cell_type": "code",
      "source": [],
      "metadata": {
        "id": "5d5WST4T1XEB"
      },
      "id": "5d5WST4T1XEB",
      "execution_count": 10,
      "outputs": []
    }
  ],
  "metadata": {
    "kernelspec": {
      "display_name": "Python 3",
      "language": "python",
      "name": "python3"
    },
    "language_info": {
      "codemirror_mode": {
        "name": "ipython",
        "version": 3
      },
      "file_extension": ".py",
      "mimetype": "text/x-python",
      "name": "python",
      "nbconvert_exporter": "python",
      "pygments_lexer": "ipython3",
      "version": "3.8.8"
    },
    "colab": {
      "provenance": []
    },
    "accelerator": "GPU",
    "gpuClass": "standard"
  },
  "nbformat": 4,
  "nbformat_minor": 5
}